{
 "cells": [
  {
   "cell_type": "code",
   "execution_count": null,
   "id": "d3ed4832-b5ff-49de-b2c3-873819775547",
   "metadata": {},
   "outputs": [],
   "source": [
    "# chapter 2 - variables and statements"
   ]
  }
 ],
 "metadata": {
  "kernelspec": {
   "display_name": "Python 3 (ipykernel)",
   "language": "python",
   "name": "python3"
  },
  "language_info": {
   "codemirror_mode": {
    "name": "ipython",
    "version": 3
   },
   "file_extension": ".py",
   "mimetype": "text/x-python",
   "name": "python",
   "nbconvert_exporter": "python",
   "pygments_lexer": "ipython3",
   "version": "3.11.13"
  }
 },
 "nbformat": 4,
 "nbformat_minor": 5
}
