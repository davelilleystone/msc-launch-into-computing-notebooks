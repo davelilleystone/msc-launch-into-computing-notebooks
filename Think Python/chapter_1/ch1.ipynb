{
 "cells": [
  {
   "cell_type": "code",
   "execution_count": 1,
   "id": "5dd969d2-0714-404c-a18f-8e2dca3d7871",
   "metadata": {},
   "outputs": [
    {
     "name": "stdout",
     "output_type": "stream",
     "text": [
      "4\n",
      "0\n",
      "4\n",
      "1.0\n",
      "<class 'int'>\n",
      "<class 'float'>\n",
      "<class 'int'>\n",
      "42\n",
      "8\n"
     ]
    }
   ],
   "source": [
    "# arithmetic operators \n",
    "\n",
    "print(2 + 2)\n",
    "print(2 - 2)\n",
    "print(2 * 2)\n",
    "print(2 / 2)\n",
    "\n",
    "# integer\n",
    "print(type(2 + 2))\n",
    "\n",
    "#float\n",
    "print(type(2/2))\n",
    "\n",
    "# can use // for integer division - will round down to nearest integer\n",
    "\n",
    "print(type(84 // 2))\n",
    "print(85 // 2)\n",
    "\n",
    "# ** is the exponential operator\n",
    "\n",
    "print(2 ** 3)\n",
    "\n"
   ]
  },
  {
   "cell_type": "code",
   "execution_count": 2,
   "id": "37a5fe8e-4a99-4574-9b00-3ab651cf4f6e",
   "metadata": {},
   "outputs": [
    {
     "name": "stdout",
     "output_type": "stream",
     "text": [
      "36\n"
     ]
    }
   ],
   "source": [
    "# expressions are a combination of values and operators that return a value\n",
    "\n",
    "print(6 + 6 * 5)"
   ]
  },
  {
   "cell_type": "code",
   "execution_count": 3,
   "id": "7e42844e-f7a6-4e4e-8a74-63c53b0cf6e0",
   "metadata": {},
   "outputs": [
    {
     "name": "stdout",
     "output_type": "stream",
     "text": [
      "60\n"
     ]
    }
   ],
   "source": [
    "# python uses order of operations, use parenthesis to override\n",
    "\n",
    "print((6 + 6) * 5)"
   ]
  },
  {
   "cell_type": "code",
   "execution_count": 4,
   "id": "11753acf-7f56-470a-85a0-7db87603ed73",
   "metadata": {},
   "outputs": [
    {
     "name": "stdout",
     "output_type": "stream",
     "text": [
      "42\n",
      "43\n",
      "3\n",
      "5.3\n"
     ]
    }
   ],
   "source": [
    "# arithmetic functions\n",
    "\n",
    "# round will round a float to the nearest int\n",
    "\n",
    "print(round(42.4))\n",
    "print(round(42.6))\n",
    "\n",
    "# abs returns absolute value of a number\n",
    "print(abs(-3))\n",
    "print(abs(-5.3))"
   ]
  },
  {
   "cell_type": "code",
   "execution_count": 5,
   "id": "5ef32050-5926-491b-97b3-56a1b5f7349e",
   "metadata": {},
   "outputs": [
    {
     "name": "stdout",
     "output_type": "stream",
     "text": [
      "Hello\n",
      "Hello\n"
     ]
    }
   ],
   "source": [
    "# Strings\n",
    "\n",
    "# strings are series of letters that can use single or double quotation marks\n",
    "\n",
    "print('Hello')\n",
    "print(\"Hello\")"
   ]
  },
  {
   "cell_type": "code",
   "execution_count": 6,
   "id": "2b8b052b-8c25-4512-a70c-440a0192728a",
   "metadata": {},
   "outputs": [
    {
     "name": "stdout",
     "output_type": "stream",
     "text": [
      "That's interesting\n",
      "That's interesting\n"
     ]
    }
   ],
   "source": [
    "# use double quotes to add a ' without having to escape\n",
    "\n",
    "print(\"That's interesting\")\n",
    "print('That\\'s interesting')\n",
    "\n",
    "# not using double quotes or backslash will cause an error\n",
    "# print('That's interesting')\n"
   ]
  },
  {
   "cell_type": "code",
   "execution_count": 11,
   "id": "1b532e8f-6d44-4113-b036-d645e5f145db",
   "metadata": {},
   "outputs": [
    {
     "name": "stdout",
     "output_type": "stream",
     "text": [
      "Hello World\n",
      "\n",
      "Hello World\n",
      "Hello World\n",
      "Hello World\n",
      "Hello World\n",
      "\n"
     ]
    }
   ],
   "source": [
    "# the plus operator can be used to concatenate strings\n",
    "\n",
    "print('Hello ' + 'World\\n')\n",
    "\n",
    "# the multiplication operator will make multiple copies of a string\n",
    "\n",
    "print(('Hello ' + 'World\\n') * 4)"
   ]
  },
  {
   "cell_type": "code",
   "execution_count": 12,
   "id": "1cd73470-73f6-4955-a33f-766e86c7e48a",
   "metadata": {},
   "outputs": [
    {
     "data": {
      "text/plain": [
       "5"
      ]
     },
     "execution_count": 12,
     "metadata": {},
     "output_type": "execute_result"
    }
   ],
   "source": [
    "# get the length of a string\n",
    "\n",
    "len('hello')"
   ]
  },
  {
   "cell_type": "code",
   "execution_count": 30,
   "id": "611c878e-ad15-4a3d-988d-5675386103a0",
   "metadata": {},
   "outputs": [
    {
     "name": "stdout",
     "output_type": "stream",
     "text": [
      "<class 'str'>\n",
      "<class 'int'>\n",
      "<class 'float'>\n",
      "<class 'list'>\n",
      "<class 'tuple'>\n",
      "<class 'dict'>\n",
      "<class 'bool'>\n",
      "<class 'NoneType'>\n"
     ]
    }
   ],
   "source": [
    "# python values are made up of types and the type function tells us what type a value is\n",
    "\n",
    "print(type('hello'))\n",
    "print(type(10))\n",
    "print(type(10.0))\n",
    "print(type(['list']))\n",
    "print(type((1,2)))\n",
    "print(type({'name':'Dave'}))\n",
    "print(type(True))\n",
    "print(type(None))\n"
   ]
  },
  {
   "cell_type": "code",
   "execution_count": 33,
   "id": "fc829065-aa91-42c7-b768-9a9109c51ff9",
   "metadata": {},
   "outputs": [
    {
     "name": "stdout",
     "output_type": "stream",
     "text": [
      "<class 'int'>\n",
      "<class 'str'>\n"
     ]
    }
   ],
   "source": [
    "# you can convert values using functions\n",
    "\n",
    "print(type(int('100')))\n",
    "print(type(str(100)))"
   ]
  },
  {
   "cell_type": "code",
   "execution_count": 37,
   "id": "70500975-cde9-4e56-9cb4-7bb1ad0dc3d6",
   "metadata": {},
   "outputs": [
    {
     "name": "stdout",
     "output_type": "stream",
     "text": [
      "(1, 0, 0)\n",
      "<class 'tuple'>\n",
      "1000000\n"
     ]
    }
   ],
   "source": [
    "# python will convert comma separated values into a tupe\n",
    "\n",
    "num = 1,000,0000\n",
    "\n",
    "print(num)\n",
    "print(type(num))\n",
    "\n",
    "#use underscores to separate large numbers\n",
    "print(1_000_000)"
   ]
  },
  {
   "cell_type": "code",
   "execution_count": null,
   "id": "b77f19e4-433d-497f-a6e1-cd4264a50584",
   "metadata": {},
   "outputs": [],
   "source": []
  }
 ],
 "metadata": {
  "kernelspec": {
   "display_name": "Python 3 (ipykernel)",
   "language": "python",
   "name": "python3"
  },
  "language_info": {
   "codemirror_mode": {
    "name": "ipython",
    "version": 3
   },
   "file_extension": ".py",
   "mimetype": "text/x-python",
   "name": "python",
   "nbconvert_exporter": "python",
   "pygments_lexer": "ipython3",
   "version": "3.11.13"
  }
 },
 "nbformat": 4,
 "nbformat_minor": 5
}
