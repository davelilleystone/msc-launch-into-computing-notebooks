{
 "cells": [
  {
   "cell_type": "code",
   "execution_count": 4,
   "id": "e32e8831-b787-40dd-834c-20232100885a",
   "metadata": {},
   "outputs": [
    {
     "name": "stdout",
     "output_type": "stream",
     "text": [
      "10\n",
      "10\n",
      "12\n"
     ]
    }
   ],
   "source": [
    "# rounding\n",
    "\n",
    "print(round(10.1))\n",
    "print(round(10.5))\n",
    "print(round(11.5))\n",
    "\n",
    "# python doesn't round .5 numbers as expected, it will only round up .5  values if the result will be an even number"
   ]
  },
  {
   "cell_type": "code",
   "execution_count": 16,
   "id": "e27a1de1-c05d-4fdd-a8e1-049453d03733",
   "metadata": {},
   "outputs": [
    {
     "ename": "SyntaxError",
     "evalue": "invalid syntax. Perhaps you forgot a comma? (764979048.py, line 17)",
     "output_type": "error",
     "traceback": [
      "  \u001b[36mCell\u001b[39m\u001b[36m \u001b[39m\u001b[32mIn[16]\u001b[39m\u001b[32m, line 17\u001b[39m\n\u001b[31m    \u001b[39m\u001b[31mprint(round 5.6)\u001b[39m\n          ^\n\u001b[31mSyntaxError\u001b[39m\u001b[31m:\u001b[39m invalid syntax. Perhaps you forgot a comma?\n"
     ]
    }
   ],
   "source": [
    "\n",
    "# When you learn about a new feature, you should try it out and make mistakes on purpose. That way, you learn the error messages, and when you see them again, you will know what they mean. It is better to make mistakes now and deliberately than later and accidentally.\n",
    "\n",
    "# You can use a minus sign to make a negative number like -2. What happens if you put a plus sign before a number? What about 2++2?\n",
    "\n",
    "# Ans: Python treats a plus in front of a number as a unary operator and its perfectly fine to use, if a little redundant \n",
    "\n",
    "print(2++2)\n",
    "\n",
    "# What happens if you have two values with no operator between them, like 4 2?\n",
    "\n",
    "#Ans: Pyhton expects an operator, an error will occur\n",
    "\n",
    "# print(4 2)\n",
    "\n",
    "# If you call a function like round(42.5), what happens if you leave out one or both parentheses?\n",
    "\n",
    "# Ans: a syntax error will occur\n",
    "\n",
    "# print(round 5.6)\n"
   ]
  },
  {
   "cell_type": "code",
   "execution_count": 14,
   "id": "9185cca9-2f79-4b59-9963-7593850f97c9",
   "metadata": {},
   "outputs": [
    {
     "data": {
      "text/plain": [
       "type"
      ]
     },
     "execution_count": 14,
     "metadata": {},
     "output_type": "execute_result"
    }
   ],
   "source": [
    "type"
   ]
  },
  {
   "cell_type": "code",
   "execution_count": 17,
   "id": "9a5fd5ed-095b-4e9a-a896-ac3a9c9df485",
   "metadata": {},
   "outputs": [
    {
     "name": "stdout",
     "output_type": "stream",
     "text": [
      "<class 'int'>\n",
      "<class 'float'>\n",
      "<class 'str'>\n",
      "<class 'int'>\n",
      "<class 'float'>\n",
      "<class 'builtin_function_or_method'>\n",
      "<class 'type'>\n",
      "<class 'type'>\n"
     ]
    }
   ],
   "source": [
    "# Recall that every expression has a value, every value has a type, and we can use the type function to find the type of any value.\n",
    "\n",
    "# What is the type of the value of the following expressions? Make your best guess for each one, and then use type to find out.\n",
    "\n",
    "# 765 - int\n",
    "\n",
    "# 2.718 - float\n",
    "\n",
    "# '2 pi' - str\n",
    "\n",
    "# abs(-7) - int\n",
    "\n",
    "# abs(-7.0) - float\n",
    "\n",
    "# abs - function ?\n",
    "\n",
    "# int - int ?\n",
    "\n",
    "# type - type ?\n",
    "\n",
    "\n",
    "print(type(765))\n",
    "print(type(2.718))\n",
    "print(type('2 pi'))\n",
    "print(type(abs(-7)))\n",
    "print(type(abs(-7.0)))\n",
    "print(type(abs))\n",
    "print(type(int))\n",
    "print(type(type))\n",
    "\n",
    "\n",
    "\n",
    "\n",
    "\n",
    "\n",
    "\n",
    "\n",
    "\n",
    "\n",
    "\n",
    "\n",
    "\n",
    "\n"
   ]
  },
  {
   "cell_type": "code",
   "execution_count": 37,
   "id": "9c2da67a",
   "metadata": {},
   "outputs": [
    {
     "name": "stdout",
     "output_type": "stream",
     "text": [
      "2562\n",
      "6.211180124223602\n",
      "Average pace is 412 seconds / mile\n",
      "6 minutes, 52 seconds\n",
      "8.737864077669903 mph\n"
     ]
    }
   ],
   "source": [
    "# The following questions give you a chance to practice writing arithmetic expressions:\n",
    "\n",
    "# How many seconds are there in 42 minutes 42 seconds?\n",
    "\n",
    "seconds = (42 * 60) + 42\n",
    "\n",
    "print(seconds)\n",
    "\n",
    "# How many miles are there in 10 kilometers? Hint: there are 1.61 kilometers in a mile.\n",
    "\n",
    "def km_to_miles(km):\n",
    "    return(km / 1.61)\n",
    "\n",
    "print(km_to_miles(10))\n",
    "\n",
    "# If you run a 10 kilometer race in 42 minutes 42 seconds, what is your average pace in seconds per mile?\n",
    "\n",
    "miles = km_to_miles(10)\n",
    "\n",
    "average_pace = round(seconds / miles)\n",
    "\n",
    "print(f'Average pace is {average_pace} seconds / mile')\n",
    "\n",
    "# What is your average pace in minutes and seconds per mile?\n",
    "\n",
    "print(f'{int(average_pace // 60)} minutes, {average_pace % 60} seconds')\n",
    "\n",
    "# What is your average speed in miles per hour?\n",
    "\n",
    "print(str(3600 / 412) + ' mph')"
   ]
  },
  {
   "cell_type": "code",
   "execution_count": null,
   "id": "eb190d0f-2da0-47df-bb82-8370dcdd8db2",
   "metadata": {},
   "outputs": [],
   "source": []
  }
 ],
 "metadata": {
  "kernelspec": {
   "display_name": "Python 3 (ipykernel)",
   "language": "python",
   "name": "python3"
  },
  "language_info": {
   "codemirror_mode": {
    "name": "ipython",
    "version": 3
   },
   "file_extension": ".py",
   "mimetype": "text/x-python",
   "name": "python",
   "nbconvert_exporter": "python",
   "pygments_lexer": "ipython3",
   "version": "3.11.13"
  }
 },
 "nbformat": 4,
 "nbformat_minor": 5
}
